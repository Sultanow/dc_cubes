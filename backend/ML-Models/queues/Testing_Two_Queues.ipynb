{
 "cells": [
  {
   "cell_type": "markdown",
   "metadata": {},
   "source": [
    "# Items Prediction Process"
   ]
  },
  {
   "cell_type": "markdown",
   "metadata": {},
   "source": [
    "### Imports"
   ]
  },
  {
   "cell_type": "code",
   "execution_count": 1,
   "metadata": {},
   "outputs": [],
   "source": [
    "%load_ext autoreload\n",
    "%autoreload 2"
   ]
  },
  {
   "cell_type": "code",
   "execution_count": 2,
   "metadata": {},
   "outputs": [],
   "source": [
    "import matplotlib.pyplot as plt\n",
    "import time\n",
    "from prediction_functions import *\n",
    "import logging"
   ]
  },
  {
   "cell_type": "code",
   "execution_count": 3,
   "metadata": {},
   "outputs": [],
   "source": [
    "logging.basicConfig(level=logging.INFO)\n",
    "logging.getLogger(\"elasticsearch\").setLevel(logging.WARNING)"
   ]
  },
  {
   "cell_type": "markdown",
   "metadata": {},
   "source": [
    "### Functions"
   ]
  },
  {
   "cell_type": "markdown",
   "metadata": {},
   "source": [
    "#### Get the data from ES and create a pandas dataframe"
   ]
  },
  {
   "cell_type": "code",
   "execution_count": 53,
   "metadata": {
    "scrolled": true
   },
   "outputs": [
    {
     "name": "stderr",
     "output_type": "stream",
     "text": [
      "INFO:root:ES to Df: 2.51 time elapsed\n",
      "INFO:root:ES to Df: 2.79 time elapsed\n"
     ]
    }
   ],
   "source": [
    "q_one = es_to_df(\"2020-06-09\",\"2020-06-13\", 20, \"censhare\", 'localhost', 9200, 720)\n",
    "q_two = es_to_df(\"2020-06-09\",\"2020-06-13\", 20, \"pic\", 'localhost', 9200, 720)"
   ]
  },
  {
   "cell_type": "code",
   "execution_count": 54,
   "metadata": {},
   "outputs": [],
   "source": [
    "q_one_size = q_one['size'].values\n",
    "q_two_size = q_two['size'].values"
   ]
  },
  {
   "cell_type": "code",
   "execution_count": 55,
   "metadata": {
    "scrolled": true
   },
   "outputs": [
    {
     "data": {
      "text/plain": [
       "[<matplotlib.lines.Line2D at 0x1b334174688>]"
      ]
     },
     "execution_count": 55,
     "metadata": {},
     "output_type": "execute_result"
    },
    {
     "data": {
      "image/png": "[encoded data removed]",
      "text/plain": [
       "<Figure size 432x288 with 1 Axes>"
      ]
     },
     "metadata": {
      "needs_background": "light"
     },
     "output_type": "display_data"
    }
   ],
   "source": [
    "plt.plot(q_one_size)"
   ]
  },
  {
   "cell_type": "code",
   "execution_count": 56,
   "metadata": {
    "scrolled": false
   },
   "outputs": [
    {
     "data": {
      "text/plain": [
       "[<matplotlib.lines.Line2D at 0x1b352c2bc08>]"
      ]
     },
     "execution_count": 56,
     "metadata": {},
     "output_type": "execute_result"
    },
    {
     "data": {
      "image/png": "[encoded data removed]",
      "text/plain": [
       "<Figure size 432x288 with 1 Axes>"
      ]
     },
     "metadata": {
      "needs_background": "light"
     },
     "output_type": "display_data"
    }
   ],
   "source": [
    "plt.plot(q_two_size)"
   ]
  },
  {
   "cell_type": "markdown",
   "metadata": {},
   "source": [
    "#### Create the feature enriched dataset for each item"
   ]
  },
  {
   "cell_type": "code",
   "execution_count": 57,
   "metadata": {},
   "outputs": [
    {
     "name": "stderr",
     "output_type": "stream",
     "text": [
      "INFO:root:753 items in the first queue\n",
      "INFO:root:9 items in the second queue\n",
      "INFO:root:762 items in the first and second queue combined\n",
      "INFO:root:762 items in the first and second queue combined without duplicates\n",
      "INFO:root:760 samples created in the dataset\n",
      "INFO:root:Create dataset: 1.37 time elapsed\n"
     ]
    }
   ],
   "source": [
    "X = create_dataset_predict(q_one, q_two)"
   ]
  },
  {
   "cell_type": "code",
   "execution_count": 58,
   "metadata": {},
   "outputs": [
    {
     "data": {
      "text/html": [
       "<div>\n",
       "<style scoped>\n",
       "    .dataframe tbody tr th:only-of-type {\n",
       "        vertical-align: middle;\n",
       "    }\n",
       "\n",
       "    .dataframe tbody tr th {\n",
       "        vertical-align: top;\n",
       "    }\n",
       "\n",
       "    .dataframe thead th {\n",
       "        text-align: right;\n",
       "    }\n",
       "</style>\n",
       "<table border=\"1\" class=\"dataframe\">\n",
       "  <thead>\n",
       "    <tr style=\"text-align: right;\">\n",
       "      <th></th>\n",
       "      <th>100169626</th>\n",
       "      <th>Q_size_one</th>\n",
       "      <th>Q_size_two</th>\n",
       "      <th>n_added_two</th>\n",
       "      <th>n_removed_two</th>\n",
       "      <th>Q_start</th>\n",
       "    </tr>\n",
       "  </thead>\n",
       "  <tbody>\n",
       "    <tr>\n",
       "      <th>0</th>\n",
       "      <td>1</td>\n",
       "      <td>865</td>\n",
       "      <td>332</td>\n",
       "      <td>147</td>\n",
       "      <td>48</td>\n",
       "      <td>0</td>\n",
       "    </tr>\n",
       "    <tr>\n",
       "      <th>1</th>\n",
       "      <td>2</td>\n",
       "      <td>669</td>\n",
       "      <td>575</td>\n",
       "      <td>285</td>\n",
       "      <td>42</td>\n",
       "      <td>0</td>\n",
       "    </tr>\n",
       "    <tr>\n",
       "      <th>2</th>\n",
       "      <td>3</td>\n",
       "      <td>798</td>\n",
       "      <td>728</td>\n",
       "      <td>192</td>\n",
       "      <td>39</td>\n",
       "      <td>0</td>\n",
       "    </tr>\n",
       "    <tr>\n",
       "      <th>3</th>\n",
       "      <td>4</td>\n",
       "      <td>729</td>\n",
       "      <td>896</td>\n",
       "      <td>215</td>\n",
       "      <td>47</td>\n",
       "      <td>0</td>\n",
       "    </tr>\n",
       "    <tr>\n",
       "      <th>4</th>\n",
       "      <td>5</td>\n",
       "      <td>1104</td>\n",
       "      <td>1062</td>\n",
       "      <td>216</td>\n",
       "      <td>50</td>\n",
       "      <td>0</td>\n",
       "    </tr>\n",
       "    <tr>\n",
       "      <th>...</th>\n",
       "      <td>...</td>\n",
       "      <td>...</td>\n",
       "      <td>...</td>\n",
       "      <td>...</td>\n",
       "      <td>...</td>\n",
       "      <td>...</td>\n",
       "    </tr>\n",
       "    <tr>\n",
       "      <th>102</th>\n",
       "      <td>103</td>\n",
       "      <td>751</td>\n",
       "      <td>0</td>\n",
       "      <td>0</td>\n",
       "      <td>0</td>\n",
       "      <td>0</td>\n",
       "    </tr>\n",
       "    <tr>\n",
       "      <th>103</th>\n",
       "      <td>104</td>\n",
       "      <td>751</td>\n",
       "      <td>0</td>\n",
       "      <td>0</td>\n",
       "      <td>0</td>\n",
       "      <td>0</td>\n",
       "    </tr>\n",
       "    <tr>\n",
       "      <th>104</th>\n",
       "      <td>105</td>\n",
       "      <td>751</td>\n",
       "      <td>0</td>\n",
       "      <td>0</td>\n",
       "      <td>0</td>\n",
       "      <td>0</td>\n",
       "    </tr>\n",
       "    <tr>\n",
       "      <th>105</th>\n",
       "      <td>106</td>\n",
       "      <td>753</td>\n",
       "      <td>0</td>\n",
       "      <td>0</td>\n",
       "      <td>0</td>\n",
       "      <td>0</td>\n",
       "    </tr>\n",
       "    <tr>\n",
       "      <th>106</th>\n",
       "      <td>107</td>\n",
       "      <td>753</td>\n",
       "      <td>9</td>\n",
       "      <td>9</td>\n",
       "      <td>1</td>\n",
       "      <td>0</td>\n",
       "    </tr>\n",
       "  </tbody>\n",
       "</table>\n",
       "<p>107 rows × 6 columns</p>\n",
       "</div>"
      ],
      "text/plain": [
       "     100169626  Q_size_one  Q_size_two  n_added_two  n_removed_two  Q_start\n",
       "0            1         865         332          147             48        0\n",
       "1            2         669         575          285             42        0\n",
       "2            3         798         728          192             39        0\n",
       "3            4         729         896          215             47        0\n",
       "4            5        1104        1062          216             50        0\n",
       "..         ...         ...         ...          ...            ...      ...\n",
       "102        103         751           0            0              0        0\n",
       "103        104         751           0            0              0        0\n",
       "104        105         751           0            0              0        0\n",
       "105        106         753           0            0              0        0\n",
       "106        107         753           9            9              1        0\n",
       "\n",
       "[107 rows x 6 columns]"
      ]
     },
     "execution_count": 58,
     "metadata": {},
     "output_type": "execute_result"
    }
   ],
   "source": [
    "X[0]"
   ]
  },
  {
   "cell_type": "markdown",
   "metadata": {},
   "source": [
    "#### Padding"
   ]
  },
  {
   "cell_type": "code",
   "execution_count": 60,
   "metadata": {},
   "outputs": [
    {
     "name": "stderr",
     "output_type": "stream",
     "text": [
      "INFO:root:Scaling: 0.87 time elapsed\n"
     ]
    }
   ],
   "source": [
    "X_pad_scaled, X_pad = scale_pad(X, 720, './models/scalerx_outlier25_300_2020-06-09_2020-06-13_50epochs_720steps_20srate.p')"
   ]
  },
  {
   "cell_type": "markdown",
   "metadata": {},
   "source": [
    "#### Load Model"
   ]
  },
  {
   "cell_type": "code",
   "execution_count": 63,
   "metadata": {},
   "outputs": [
    {
     "name": "stdout",
     "output_type": "stream",
     "text": [
      "10 Elemente hochgeladen\n",
      "20 Elemente hochgeladen\n",
      "30 Elemente hochgeladen\n",
      "40 Elemente hochgeladen\n",
      "50 Elemente hochgeladen\n",
      "60 Elemente hochgeladen\n",
      "70 Elemente hochgeladen\n",
      "80 Elemente hochgeladen\n",
      "90 Elemente hochgeladen\n",
      "100 Elemente hochgeladen\n",
      "110 Elemente hochgeladen\n",
      "120 Elemente hochgeladen\n",
      "130 Elemente hochgeladen\n",
      "140 Elemente hochgeladen\n",
      "150 Elemente hochgeladen\n",
      "160 Elemente hochgeladen\n",
      "170 Elemente hochgeladen\n",
      "180 Elemente hochgeladen\n",
      "190 Elemente hochgeladen\n",
      "200 Elemente hochgeladen\n",
      "210 Elemente hochgeladen\n",
      "220 Elemente hochgeladen\n",
      "230 Elemente hochgeladen\n",
      "240 Elemente hochgeladen\n"
     ]
    },
    {
     "name": "stderr",
     "output_type": "stream",
     "text": [
      "INFO:root:Prediction and upload: 6.55 time elapsed\n"
     ]
    },
    {
     "name": "stdout",
     "output_type": "stream",
     "text": [
      "250 Elemente hochgeladen\n"
     ]
    }
   ],
   "source": [
    "final_df = predict_upload(q_two, X, X_pad, X_pad_scaled,'./models/scalery_outlier25_300_2020-06-09_2020-06-13_50epochs_720steps_20srate.p', 'localhost', \n",
    "               9200, './models/best_outlier25_300_2020-06-09_2020-06-13_50epochs_720steps_20srate.h5', 'queues-prediction', 20)"
   ]
  },
  {
   "cell_type": "code",
   "execution_count": 64,
   "metadata": {
    "scrolled": false
   },
   "outputs": [
    {
     "data": {
      "text/html": [
       "<div>\n",
       "<style scoped>\n",
       "    .dataframe tbody tr th:only-of-type {\n",
       "        vertical-align: middle;\n",
       "    }\n",
       "\n",
       "    .dataframe tbody tr th {\n",
       "        vertical-align: top;\n",
       "    }\n",
       "\n",
       "    .dataframe thead th {\n",
       "        text-align: right;\n",
       "    }\n",
       "</style>\n",
       "<table border=\"1\" class=\"dataframe\">\n",
       "  <thead>\n",
       "    <tr style=\"text-align: right;\">\n",
       "      <th></th>\n",
       "      <th>items</th>\n",
       "      <th>size</th>\n",
       "      <th>timestamp</th>\n",
       "    </tr>\n",
       "  </thead>\n",
       "  <tbody>\n",
       "    <tr>\n",
       "      <th>0</th>\n",
       "      <td>100169626 1006833586 1010184859 101412478 1046...</td>\n",
       "      <td>760</td>\n",
       "      <td>2020-06-14T00:00:02.521185+0000</td>\n",
       "    </tr>\n",
       "    <tr>\n",
       "      <th>1</th>\n",
       "      <td>100169626 1006833586 1010184859 101412478 1046...</td>\n",
       "      <td>760</td>\n",
       "      <td>2020-06-14T00:10:02.521185+0000</td>\n",
       "    </tr>\n",
       "    <tr>\n",
       "      <th>2</th>\n",
       "      <td>100169626 1006833586 1010184859 101412478 1046...</td>\n",
       "      <td>760</td>\n",
       "      <td>2020-06-14T00:20:02.521185+0000</td>\n",
       "    </tr>\n",
       "    <tr>\n",
       "      <th>3</th>\n",
       "      <td>100169626 1006833586 1010184859 101412478 1046...</td>\n",
       "      <td>760</td>\n",
       "      <td>2020-06-14T00:30:02.521185+0000</td>\n",
       "    </tr>\n",
       "    <tr>\n",
       "      <th>4</th>\n",
       "      <td>10712557 1077597455 1098328035 1104224114 1139...</td>\n",
       "      <td>278</td>\n",
       "      <td>2020-06-14T00:40:02.521185+0000</td>\n",
       "    </tr>\n",
       "    <tr>\n",
       "      <th>...</th>\n",
       "      <td>...</td>\n",
       "      <td>...</td>\n",
       "      <td>...</td>\n",
       "    </tr>\n",
       "    <tr>\n",
       "      <th>245</th>\n",
       "      <td>1322588522 1324808300 1383210961 1958011728 23...</td>\n",
       "      <td>8</td>\n",
       "      <td>2020-06-15T16:50:02.521185+0000</td>\n",
       "    </tr>\n",
       "    <tr>\n",
       "      <th>246</th>\n",
       "      <td>1322588522 1324808300 1958011728 230730953 256...</td>\n",
       "      <td>6</td>\n",
       "      <td>2020-06-15T17:00:02.521185+0000</td>\n",
       "    </tr>\n",
       "    <tr>\n",
       "      <th>247</th>\n",
       "      <td>1958011728 230730953 2565529011 4098126226</td>\n",
       "      <td>4</td>\n",
       "      <td>2020-06-15T17:10:02.521185+0000</td>\n",
       "    </tr>\n",
       "    <tr>\n",
       "      <th>248</th>\n",
       "      <td>1958011728 2565529011 4098126226</td>\n",
       "      <td>3</td>\n",
       "      <td>2020-06-15T17:20:02.521185+0000</td>\n",
       "    </tr>\n",
       "    <tr>\n",
       "      <th>249</th>\n",
       "      <td>1958011728 2565529011 4098126226</td>\n",
       "      <td>3</td>\n",
       "      <td>2020-06-15T17:30:02.521185+0000</td>\n",
       "    </tr>\n",
       "  </tbody>\n",
       "</table>\n",
       "<p>250 rows × 3 columns</p>\n",
       "</div>"
      ],
      "text/plain": [
       "                                                 items  size  \\\n",
       "0    100169626 1006833586 1010184859 101412478 1046...   760   \n",
       "1    100169626 1006833586 1010184859 101412478 1046...   760   \n",
       "2    100169626 1006833586 1010184859 101412478 1046...   760   \n",
       "3    100169626 1006833586 1010184859 101412478 1046...   760   \n",
       "4    10712557 1077597455 1098328035 1104224114 1139...   278   \n",
       "..                                                 ...   ...   \n",
       "245  1322588522 1324808300 1383210961 1958011728 23...     8   \n",
       "246  1322588522 1324808300 1958011728 230730953 256...     6   \n",
       "247        1958011728 230730953 2565529011 4098126226      4   \n",
       "248                  1958011728 2565529011 4098126226      3   \n",
       "249                  1958011728 2565529011 4098126226      3   \n",
       "\n",
       "                           timestamp  \n",
       "0    2020-06-14T00:00:02.521185+0000  \n",
       "1    2020-06-14T00:10:02.521185+0000  \n",
       "2    2020-06-14T00:20:02.521185+0000  \n",
       "3    2020-06-14T00:30:02.521185+0000  \n",
       "4    2020-06-14T00:40:02.521185+0000  \n",
       "..                               ...  \n",
       "245  2020-06-15T16:50:02.521185+0000  \n",
       "246  2020-06-15T17:00:02.521185+0000  \n",
       "247  2020-06-15T17:10:02.521185+0000  \n",
       "248  2020-06-15T17:20:02.521185+0000  \n",
       "249  2020-06-15T17:30:02.521185+0000  \n",
       "\n",
       "[250 rows x 3 columns]"
      ]
     },
     "execution_count": 64,
     "metadata": {},
     "output_type": "execute_result"
    }
   ],
   "source": [
    "final_df"
   ]
  },
  {
   "cell_type": "code",
   "execution_count": 65,
   "metadata": {
    "scrolled": false
   },
   "outputs": [
    {
     "data": {
      "text/plain": [
       "array([760, 760, 760, 760, 278, 275, 275, 271, 267, 267, 266, 265, 265,\n",
       "       262, 262, 246, 225, 224, 220, 211, 205, 204, 196, 188, 182, 177,\n",
       "       174, 171, 165, 162, 160, 154, 136, 135, 132, 131, 128, 127, 123,\n",
       "       101, 100, 100,  98,  97,  90,  78,  67,  65,  62,  60,  59,  59,\n",
       "        58,  51,  51,  51,  51,  50,  47,  46,  46,  45,  42,  41,  41,\n",
       "        41,  41,  41,  41,  40,  40,  40,  40,  39,  39,  39,  39,  39,\n",
       "        39,  39,  39,  39,  39,  39,  39,  37,  37,  36,  36,  35,  35,\n",
       "        34,  30,  30,  30,  29,  28,  27,  26,  24,  24,  24,  24,  24,\n",
       "        24,  24,  24,  24,  24,  24,  24,  24,  24,  24,  24,  24,  24,\n",
       "        24,  23,  23,  23,  23,  23,  23,  23,  22,  22,  22,  22,  22,\n",
       "        22,  22,  22,  22,  22,  22,  22,  21,  21,  21,  21,  21,  21,\n",
       "        21,  21,  21,  21,  21,  21,  21,  21,  21,  21,  21,  20,  20,\n",
       "        20,  20,  20,  20,  20,  20,  20,  20,  20,  20,  20,  20,  20,\n",
       "        20,  20,  20,  20,  20,  20,  20,  20,  20,  20,  20,  20,  20,\n",
       "        20,  20,  20,  20,  20,  20,  20,  20,  20,  20,  20,  20,  20,\n",
       "        20,  20,  20,  20,  20,  20,  20,  20,  20,  20,  20,  20,  20,\n",
       "        20,  20,  20,  20,  20,  20,  20,  20,  20,  20,  20,  20,  20,\n",
       "        20,  20,  20,  20,  20,  20,  20,  20,  16,  16,  16,  14,  14,\n",
       "        14,  14,  13,  13,  13,  13,  12,  12,   9,   9,   9,   8,   6,\n",
       "         4,   3,   3], dtype=int64)"
      ]
     },
     "execution_count": 65,
     "metadata": {},
     "output_type": "execute_result"
    }
   ],
   "source": [
    "final_df['size'].values"
   ]
  },
  {
   "cell_type": "code",
   "execution_count": 67,
   "metadata": {},
   "outputs": [
    {
     "name": "stderr",
     "output_type": "stream",
     "text": [
      "INFO:root:ES to Df: 2.99 time elapsed\n"
     ]
    }
   ],
   "source": [
    "q_two_test = es_to_df(\"2020-06-14\",\"2020-06-16\", 20, \"pic\", 'localhost', 9200, 720)"
   ]
  },
  {
   "cell_type": "code",
   "execution_count": 68,
   "metadata": {
    "scrolled": true
   },
   "outputs": [
    {
     "data": {
      "text/plain": [
       "250"
      ]
     },
     "execution_count": 68,
     "metadata": {},
     "output_type": "execute_result"
    }
   ],
   "source": [
    "len(final_df)"
   ]
  },
  {
   "cell_type": "code",
   "execution_count": 69,
   "metadata": {
    "scrolled": false
   },
   "outputs": [
    {
     "data": {
      "text/plain": [
       "432"
      ]
     },
     "execution_count": 69,
     "metadata": {},
     "output_type": "execute_result"
    }
   ],
   "source": [
    "len(q_two_test)"
   ]
  },
  {
   "cell_type": "code",
   "execution_count": 70,
   "metadata": {},
   "outputs": [],
   "source": [
    "real_size = q_two_test['size'].values[:366]"
   ]
  },
  {
   "cell_type": "code",
   "execution_count": 71,
   "metadata": {},
   "outputs": [],
   "source": [
    "item_size = final_df['size'].values"
   ]
  },
  {
   "cell_type": "code",
   "execution_count": 72,
   "metadata": {},
   "outputs": [],
   "source": [
    "import matplotlib.pyplot as plt"
   ]
  },
  {
   "cell_type": "code",
   "execution_count": 73,
   "metadata": {},
   "outputs": [
    {
     "data": {
      "image/png": "[encoded data removed]",
      "text/plain": [
       "<Figure size 432x288 with 1 Axes>"
      ]
     },
     "metadata": {
      "needs_background": "light"
     },
     "output_type": "display_data"
    }
   ],
   "source": [
    "plt.plot(real_size, label='Real Size')\n",
    "plt.plot(item_size, label='Item Size')\n",
    "plt.title('Item Size Comparison')\n",
    "plt.xlabel('Step')\n",
    "plt.ylabel('Item Size')\n",
    "plt.legend()\n",
    "plt.show()"
   ]
  },
  {
   "cell_type": "code",
   "execution_count": null,
   "metadata": {},
   "outputs": [],
   "source": []
  }
 ],
 "metadata": {
  "kernelspec": {
   "display_name": "Python 3",
   "language": "python",
   "name": "python3"
  },
  "language_info": {
   "codemirror_mode": {
    "name": "ipython",
    "version": 3
   },
   "file_extension": ".py",
   "mimetype": "text/x-python",
   "name": "python",
   "nbconvert_exporter": "python",
   "pygments_lexer": "ipython3",
   "version": "3.7.7"
  }
 },
 "nbformat": 4,
 "nbformat_minor": 2
}
