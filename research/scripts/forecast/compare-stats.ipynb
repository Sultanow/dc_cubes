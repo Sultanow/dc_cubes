{
 "cells": [
  {
   "cell_type": "code",
   "execution_count": null,
   "metadata": {},
   "outputs": [],
   "source": [
    "from statsmodels.tsa.holtwinters import ExponentialSmoothing\n",
    "from statsmodels.tsa.arima_model import ARIMA, ARIMAResults\n",
    "from statsmodels.tsa.stattools import adfuller\n",
    "from statsmodels.tsa.statespace.sarimax import SARIMAX\n",
    "from pmdarima import auto_arima\n",
    "\n",
    "def train_arima(pred_horizon):\n",
    "    df = pd.read_csv('ISTATX_istatx1.csv', index_col='COLLECTION_TIMESTAMP')\n",
    "    df.index = pd.to_datetime(df.index)\n",
    "    df['COLUMN_LABEL'].unique()\n",
    "    df = df.loc[df['COLUMN_LABEL'] == 'CPU Usage (per transaction)']\n",
    "    df['VALUE'] = [x.replace(',', '.') for x in df['VALUE']]\n",
    "    df['VALUE'] = pd.to_numeric(df['VALUE'])    \n",
    "    auto_arima(df['VALUE'],seasonal=False).summary()\n",
    "    train = df[:-pred_horizon].copy()\n",
    "    model = ARIMA(train['VALUE'],order=(3,1,4))\n",
    "    fit = model.fit()\n",
    "    fit.save('arima.pkl')    \n",
    "    return None    \n",
    "\n",
    "def forecast_arima(pred_horizon):\n",
    "    df = pd.read_csv('ISTATX_istatx1.csv', index_col='COLLECTION_TIMESTAMP')\n",
    "    df.index = pd.to_datetime(df.index)\n",
    "    df['COLUMN_LABEL'].unique()\n",
    "    df = df.loc[df['COLUMN_LABEL'] == 'CPU Usage (per transaction)']\n",
    "    df['VALUE'] = [x.replace(',', '.') for x in df['VALUE']]\n",
    "    df['VALUE'] = pd.to_numeric(df['VALUE'])   \n",
    "    train = df[:-pred_horizon].copy()\n",
    "    test = df[-pred_horizon:].copy()\n",
    "    start = len(train)\n",
    "    end = len(train)+len(test)-1\n",
    "    model = ARIMAResults.load('arima.pkl')\n",
    "    predictions = model.predict(start=start, end=end, dynamic=False).rename('SARIMAX(1,1,2)(2,0,0,7) Predictions')\n",
    "    print(predictions)\n",
    "    return predictions.values  "
   ]
  }
 ],
 "metadata": {
  "kernelspec": {
   "display_name": "Python 3",
   "language": "python",
   "name": "python3"
  },
  "language_info": {
   "codemirror_mode": {
    "name": "ipython",
    "version": 3
   },
   "file_extension": ".py",
   "mimetype": "text/x-python",
   "name": "python",
   "nbconvert_exporter": "python",
   "pygments_lexer": "ipython3",
   "version": "3.7.4"
  }
 },
 "nbformat": 4,
 "nbformat_minor": 2
}
