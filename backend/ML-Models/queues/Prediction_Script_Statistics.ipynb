{
 "cells": [
  {
   "cell_type": "markdown",
   "metadata": {},
   "source": [
    "# Items Prediction Process"
   ]
  },
  {
   "cell_type": "markdown",
   "metadata": {},
   "source": [
    "### Imports"
   ]
  },
  {
   "cell_type": "code",
   "execution_count": 1,
   "metadata": {},
   "outputs": [],
   "source": [
    "%load_ext autoreload\n",
    "%autoreload 2"
   ]
  },
  {
   "cell_type": "code",
   "execution_count": 2,
   "metadata": {},
   "outputs": [],
   "source": [
    "import matplotlib.pyplot as plt\n",
    "import time\n",
    "from prediction_functions import *\n",
    "import logging"
   ]
  },
  {
   "cell_type": "code",
   "execution_count": 3,
   "metadata": {},
   "outputs": [],
   "source": [
    "logging.basicConfig(level=logging.INFO)\n",
    "logging.getLogger(\"elasticsearch\").setLevel(logging.WARNING)"
   ]
  },
  {
   "cell_type": "markdown",
   "metadata": {},
   "source": [
    "## Prediction Process on approx. 12500 items"
   ]
  },
  {
   "cell_type": "markdown",
   "metadata": {},
   "source": [
    "#### Get the data from ES and create a pandas dataframe"
   ]
  },
  {
   "cell_type": "code",
   "execution_count": 4,
   "metadata": {
    "scrolled": true
   },
   "outputs": [
    {
     "name": "stderr",
     "output_type": "stream",
     "text": [
      "INFO:root:ES to Df: 1.99 time elapsed\n",
      "INFO:root:ES to Df: 5.91 time elapsed\n"
     ]
    }
   ],
   "source": [
    "q_one = es_to_df(\"2020-06-11 00:00:00\",\"2020-06-17 20:00:00\", 20, \"censhare\", 'localhost', 9200, 720)\n",
    "q_two = es_to_df(\"2020-06-11 00:00:00\",\"2020-06-17 20:00:00\", 20, \"pic\", 'localhost', 9200, 720)"
   ]
  },
  {
   "cell_type": "markdown",
   "metadata": {},
   "source": [
    "#### Overview of the size value in the last days"
   ]
  },
  {
   "cell_type": "code",
   "execution_count": 5,
   "metadata": {},
   "outputs": [],
   "source": [
    "q_one_size = q_one['size'].values\n",
    "q_two_size = q_two['size'].values"
   ]
  },
  {
   "cell_type": "code",
   "execution_count": 6,
   "metadata": {
    "scrolled": true
   },
   "outputs": [
    {
     "data": {
      "text/plain": [
       "[<matplotlib.lines.Line2D at 0x1dde442ec08>]"
      ]
     },
     "execution_count": 6,
     "metadata": {},
     "output_type": "execute_result"
    },
    {
     "data": {
      "image/png": "[encoded data removed]",
      "text/plain": [
       "<Figure size 432x288 with 1 Axes>"
      ]
     },
     "metadata": {
      "needs_background": "light"
     },
     "output_type": "display_data"
    }
   ],
   "source": [
    "plt.plot(q_one_size)"
   ]
  },
  {
   "cell_type": "code",
   "execution_count": 7,
   "metadata": {
    "scrolled": false
   },
   "outputs": [
    {
     "data": {
      "text/plain": [
       "[<matplotlib.lines.Line2D at 0x1dde3ea4848>]"
      ]
     },
     "execution_count": 7,
     "metadata": {},
     "output_type": "execute_result"
    },
    {
     "data": {
      "image/png": "[encoded data removed]",
      "text/plain": [
       "<Figure size 432x288 with 1 Axes>"
      ]
     },
     "metadata": {
      "needs_background": "light"
     },
     "output_type": "display_data"
    }
   ],
   "source": [
    "plt.plot(q_two_size)"
   ]
  },
  {
   "cell_type": "markdown",
   "metadata": {},
   "source": [
    "#### Create the feature enriched dataset for each item"
   ]
  },
  {
   "cell_type": "code",
   "execution_count": 8,
   "metadata": {},
   "outputs": [
    {
     "name": "stderr",
     "output_type": "stream",
     "text": [
      "INFO:root:12525 items in the first and second queue combined with duplicates\n",
      "INFO:root:2 items in the first queue without duplicates\n",
      "INFO:root:12521 items in the second queue without duplicates\n",
      "INFO:root:12523 items in the first and second queue combined without duplicates\n",
      "INFO:root:12523 samples created in the dataset\n",
      "INFO:root:Create dataset: 17.45 time elapsed\n"
     ]
    }
   ],
   "source": [
    "X = create_dataset_predict(q_one, q_two)"
   ]
  },
  {
   "cell_type": "markdown",
   "metadata": {},
   "source": [
    "#### Scaling & Padding"
   ]
  },
  {
   "cell_type": "code",
   "execution_count": 9,
   "metadata": {},
   "outputs": [
    {
     "name": "stderr",
     "output_type": "stream",
     "text": [
      "INFO:root:Scaling: 14.41 time elapsed\n"
     ]
    }
   ],
   "source": [
    "X_pad_scaled, X_pad = scale_pad(X, 720, './models/scalerx_outlier_25_300_2020-06-09_2020-06-13_20epochs_720steps_20srate.p')"
   ]
  },
  {
   "cell_type": "markdown",
   "metadata": {},
   "source": [
    "#### Load Model"
   ]
  },
  {
   "cell_type": "code",
   "execution_count": 10,
   "metadata": {},
   "outputs": [
    {
     "name": "stderr",
     "output_type": "stream",
     "text": [
      "INFO:root:Index queues-prediction has been refreshed\n"
     ]
    },
    {
     "name": "stdout",
     "output_type": "stream",
     "text": [
      "10 Elemente hochgeladen\n",
      "20 Elemente hochgeladen\n",
      "30 Elemente hochgeladen\n",
      "40 Elemente hochgeladen\n",
      "50 Elemente hochgeladen\n",
      "60 Elemente hochgeladen\n",
      "70 Elemente hochgeladen\n",
      "80 Elemente hochgeladen\n",
      "90 Elemente hochgeladen\n",
      "100 Elemente hochgeladen\n",
      "110 Elemente hochgeladen\n"
     ]
    },
    {
     "name": "stderr",
     "output_type": "stream",
     "text": [
      "INFO:root:Prediction and upload for 2020-06-17 19:50:04.668814+00:00: 22.06 time elapsed\n"
     ]
    },
    {
     "name": "stdout",
     "output_type": "stream",
     "text": [
      "120 Elemente hochgeladen\n",
      "130 Elemente hochgeladen\n"
     ]
    }
   ],
   "source": [
    "final_df = predict_upload(q_two, X, X_pad, X_pad_scaled,'./models/scalery_outlier_25_300_2020-06-09_2020-06-13_20epochs_720steps_20srate.p', 'localhost', \n",
    "               9200, './models/best_outlier_25_300_2020-06-09_2020-06-13_20epochs_720steps_20srate.h5', 'queues-prediction', 20)"
   ]
  },
  {
   "cell_type": "code",
   "execution_count": 11,
   "metadata": {
    "scrolled": false
   },
   "outputs": [
    {
     "data": {
      "text/html": [
       "<div>\n",
       "<style scoped>\n",
       "    .dataframe tbody tr th:only-of-type {\n",
       "        vertical-align: middle;\n",
       "    }\n",
       "\n",
       "    .dataframe tbody tr th {\n",
       "        vertical-align: top;\n",
       "    }\n",
       "\n",
       "    .dataframe thead th {\n",
       "        text-align: right;\n",
       "    }\n",
       "</style>\n",
       "<table border=\"1\" class=\"dataframe\">\n",
       "  <thead>\n",
       "    <tr style=\"text-align: right;\">\n",
       "      <th></th>\n",
       "      <th>items</th>\n",
       "      <th>size</th>\n",
       "      <th>timestamp</th>\n",
       "    </tr>\n",
       "  </thead>\n",
       "  <tbody>\n",
       "    <tr>\n",
       "      <th>0</th>\n",
       "      <td>1000329377 1000662362 1000928402 1000939801 10...</td>\n",
       "      <td>12523</td>\n",
       "      <td>2020-06-17T20:00:04.668814+0000</td>\n",
       "    </tr>\n",
       "    <tr>\n",
       "      <th>1</th>\n",
       "      <td>1000329377 1000662362 1000928402 1000939801 10...</td>\n",
       "      <td>12523</td>\n",
       "      <td>2020-06-17T20:10:04.668814+0000</td>\n",
       "    </tr>\n",
       "    <tr>\n",
       "      <th>2</th>\n",
       "      <td>1000329377 1000662362 1000928402 1000939801 10...</td>\n",
       "      <td>12523</td>\n",
       "      <td>2020-06-17T20:20:04.668814+0000</td>\n",
       "    </tr>\n",
       "    <tr>\n",
       "      <th>3</th>\n",
       "      <td>1000329377 1000662362 1000928402 1000939801 10...</td>\n",
       "      <td>12523</td>\n",
       "      <td>2020-06-17T20:30:04.668814+0000</td>\n",
       "    </tr>\n",
       "    <tr>\n",
       "      <th>4</th>\n",
       "      <td>1000329377 1000662362 1000928402 1000939801 10...</td>\n",
       "      <td>12523</td>\n",
       "      <td>2020-06-17T20:40:04.668814+0000</td>\n",
       "    </tr>\n",
       "    <tr>\n",
       "      <th>...</th>\n",
       "      <td>...</td>\n",
       "      <td>...</td>\n",
       "      <td>...</td>\n",
       "    </tr>\n",
       "    <tr>\n",
       "      <th>127</th>\n",
       "      <td>1018971756 1028252237 1041829662 104484083 104...</td>\n",
       "      <td>916</td>\n",
       "      <td>2020-06-18T17:10:04.668814+0000</td>\n",
       "    </tr>\n",
       "    <tr>\n",
       "      <th>128</th>\n",
       "      <td>1018971756 1028252237 1041829662 104484083 104...</td>\n",
       "      <td>888</td>\n",
       "      <td>2020-06-18T17:20:04.668814+0000</td>\n",
       "    </tr>\n",
       "    <tr>\n",
       "      <th>129</th>\n",
       "      <td>1018971756 108156517 1084789809 109205028 1105...</td>\n",
       "      <td>229</td>\n",
       "      <td>2020-06-18T17:30:04.668814+0000</td>\n",
       "    </tr>\n",
       "    <tr>\n",
       "      <th>130</th>\n",
       "      <td>1018971756 108156517 109205028 110532583 11401...</td>\n",
       "      <td>201</td>\n",
       "      <td>2020-06-18T17:40:04.668814+0000</td>\n",
       "    </tr>\n",
       "    <tr>\n",
       "      <th>131</th>\n",
       "      <td>1018971756 108156517 109205028 110532583 11778...</td>\n",
       "      <td>186</td>\n",
       "      <td>2020-06-18T17:50:04.668814+0000</td>\n",
       "    </tr>\n",
       "  </tbody>\n",
       "</table>\n",
       "<p>132 rows × 3 columns</p>\n",
       "</div>"
      ],
      "text/plain": [
       "                                                 items   size  \\\n",
       "0    1000329377 1000662362 1000928402 1000939801 10...  12523   \n",
       "1    1000329377 1000662362 1000928402 1000939801 10...  12523   \n",
       "2    1000329377 1000662362 1000928402 1000939801 10...  12523   \n",
       "3    1000329377 1000662362 1000928402 1000939801 10...  12523   \n",
       "4    1000329377 1000662362 1000928402 1000939801 10...  12523   \n",
       "..                                                 ...    ...   \n",
       "127  1018971756 1028252237 1041829662 104484083 104...    916   \n",
       "128  1018971756 1028252237 1041829662 104484083 104...    888   \n",
       "129  1018971756 108156517 1084789809 109205028 1105...    229   \n",
       "130  1018971756 108156517 109205028 110532583 11401...    201   \n",
       "131  1018971756 108156517 109205028 110532583 11778...    186   \n",
       "\n",
       "                           timestamp  \n",
       "0    2020-06-17T20:00:04.668814+0000  \n",
       "1    2020-06-17T20:10:04.668814+0000  \n",
       "2    2020-06-17T20:20:04.668814+0000  \n",
       "3    2020-06-17T20:30:04.668814+0000  \n",
       "4    2020-06-17T20:40:04.668814+0000  \n",
       "..                               ...  \n",
       "127  2020-06-18T17:10:04.668814+0000  \n",
       "128  2020-06-18T17:20:04.668814+0000  \n",
       "129  2020-06-18T17:30:04.668814+0000  \n",
       "130  2020-06-18T17:40:04.668814+0000  \n",
       "131  2020-06-18T17:50:04.668814+0000  \n",
       "\n",
       "[132 rows x 3 columns]"
      ]
     },
     "execution_count": 11,
     "metadata": {},
     "output_type": "execute_result"
    }
   ],
   "source": [
    "final_df"
   ]
  },
  {
   "cell_type": "code",
   "execution_count": 12,
   "metadata": {
    "scrolled": false
   },
   "outputs": [
    {
     "data": {
      "text/plain": [
       "array([12523, 12523, 12523, 12523, 12523, 12523, 12523, 12523, 12523,\n",
       "       12523, 12522, 11686, 11149, 11149, 11077, 11075, 11053, 11052,\n",
       "       11052, 11052, 10993, 10969, 10851, 10848, 10848, 10848, 10848,\n",
       "       10848, 10848, 10848, 10848, 10848, 10847, 10847, 10847, 10847,\n",
       "       10847, 10847, 10847, 10847, 10847, 10847, 10847, 10847, 10847,\n",
       "       10846, 10844, 10844, 10843, 10841, 10841, 10841, 10841, 10840,\n",
       "       10840, 10838, 10838, 10838, 10838, 10838, 10836, 10836, 10836,\n",
       "       10822, 10821, 10821, 10821, 10821, 10821, 10821, 10820, 10820,\n",
       "       10820, 10820, 10781, 10781, 10773, 10773, 10773, 10773, 10773,\n",
       "       10772, 10772, 10767, 10764, 10584, 10183, 10087,  9947,  9862,\n",
       "        9719,  9638,  9525,  9368,  8969,  8614,  8556,  8531,  8447,\n",
       "        8362,  8155,  8036,  7895,  7491,  7333,  7106,  7077,  7063,\n",
       "        7050,  7038,  7032,  7031,  7004,  6989,  6975,  6958,  6735,\n",
       "        6347,  5466,  4829,  4114,  3249,  2716,  1609,   973,   968,\n",
       "         939,   916,   888,   229,   201,   186], dtype=int64)"
      ]
     },
     "execution_count": 12,
     "metadata": {},
     "output_type": "execute_result"
    }
   ],
   "source": [
    "final_df['size'].values"
   ]
  },
  {
   "cell_type": "markdown",
   "metadata": {},
   "source": [
    "## Prediction Process on approx. 7000 items"
   ]
  },
  {
   "cell_type": "code",
   "execution_count": 13,
   "metadata": {
    "scrolled": true
   },
   "outputs": [
    {
     "name": "stderr",
     "output_type": "stream",
     "text": [
      "INFO:root:ES to Df: 1.93 time elapsed\n",
      "INFO:root:ES to Df: 3.68 time elapsed\n"
     ]
    }
   ],
   "source": [
    "q_one = es_to_df(\"2020-06-10 00:00:00\",\"2020-06-16 18:00:00\", 20, \"censhare\", 'localhost', 9200, 720)\n",
    "q_two = es_to_df(\"2020-06-10 00:00:00\",\"2020-06-16 18:00:00\", 20, \"pic\", 'localhost', 9200, 720)"
   ]
  },
  {
   "cell_type": "markdown",
   "metadata": {},
   "source": [
    "#### Overview of the size value in the last days"
   ]
  },
  {
   "cell_type": "code",
   "execution_count": 14,
   "metadata": {},
   "outputs": [],
   "source": [
    "q_one_size = q_one['size'].values\n",
    "q_two_size = q_two['size'].values"
   ]
  },
  {
   "cell_type": "code",
   "execution_count": 15,
   "metadata": {
    "scrolled": true
   },
   "outputs": [
    {
     "data": {
      "text/plain": [
       "[<matplotlib.lines.Line2D at 0x1dd9bd8f3c8>]"
      ]
     },
     "execution_count": 15,
     "metadata": {},
     "output_type": "execute_result"
    },
    {
     "data": {
      "image/png": "[encoded data removed]",
      "text/plain": [
       "<Figure size 432x288 with 1 Axes>"
      ]
     },
     "metadata": {
      "needs_background": "light"
     },
     "output_type": "display_data"
    }
   ],
   "source": [
    "plt.plot(q_one_size)"
   ]
  },
  {
   "cell_type": "code",
   "execution_count": 16,
   "metadata": {
    "scrolled": false
   },
   "outputs": [
    {
     "data": {
      "text/plain": [
       "[<matplotlib.lines.Line2D at 0x1dd97e872c8>]"
      ]
     },
     "execution_count": 16,
     "metadata": {},
     "output_type": "execute_result"
    },
    {
     "data": {
      "image/png": "[encoded data removed]",
      "text/plain": [
       "<Figure size 432x288 with 1 Axes>"
      ]
     },
     "metadata": {
      "needs_background": "light"
     },
     "output_type": "display_data"
    }
   ],
   "source": [
    "plt.plot(q_two_size)"
   ]
  },
  {
   "cell_type": "markdown",
   "metadata": {},
   "source": [
    "#### Create the feature enriched dataset for each item"
   ]
  },
  {
   "cell_type": "code",
   "execution_count": 17,
   "metadata": {},
   "outputs": [
    {
     "name": "stderr",
     "output_type": "stream",
     "text": [
      "INFO:root:7373 items in the first and second queue combined with duplicates\n",
      "INFO:root:1167 items in the first queue without duplicates\n",
      "INFO:root:6205 items in the second queue without duplicates\n",
      "INFO:root:7252 items in the first and second queue combined without duplicates\n",
      "INFO:root:7244 samples created in the dataset\n",
      "INFO:root:Create dataset: 9.35 time elapsed\n"
     ]
    }
   ],
   "source": [
    "X = create_dataset_predict(q_one, q_two)"
   ]
  },
  {
   "cell_type": "markdown",
   "metadata": {},
   "source": [
    "#### Scaling & Padding"
   ]
  },
  {
   "cell_type": "code",
   "execution_count": 18,
   "metadata": {},
   "outputs": [
    {
     "name": "stderr",
     "output_type": "stream",
     "text": [
      "INFO:root:Scaling: 8.60 time elapsed\n"
     ]
    }
   ],
   "source": [
    "X_pad_scaled, X_pad = scale_pad(X, 720, './models/scalerx_outlier_25_300_2020-06-09_2020-06-13_20epochs_720steps_20srate.p')"
   ]
  },
  {
   "cell_type": "markdown",
   "metadata": {},
   "source": [
    "#### Load Model"
   ]
  },
  {
   "cell_type": "code",
   "execution_count": 19,
   "metadata": {},
   "outputs": [
    {
     "name": "stderr",
     "output_type": "stream",
     "text": [
      "INFO:root:Index queues-prediction has been refreshed\n"
     ]
    },
    {
     "name": "stdout",
     "output_type": "stream",
     "text": [
      "10 Elemente hochgeladen\n",
      "20 Elemente hochgeladen\n",
      "30 Elemente hochgeladen\n",
      "40 Elemente hochgeladen\n",
      "50 Elemente hochgeladen\n",
      "60 Elemente hochgeladen\n",
      "70 Elemente hochgeladen\n",
      "80 Elemente hochgeladen\n"
     ]
    },
    {
     "name": "stderr",
     "output_type": "stream",
     "text": [
      "INFO:root:Prediction and upload for 2020-06-16 17:50:03.943201+00:00: 14.60 time elapsed\n"
     ]
    }
   ],
   "source": [
    "final_df = predict_upload(q_two, X, X_pad, X_pad_scaled,'./models/scalery_outlier_25_300_2020-06-09_2020-06-13_20epochs_720steps_20srate.p', 'localhost', \n",
    "               9200, './models/best_outlier_25_300_2020-06-09_2020-06-13_20epochs_720steps_20srate.h5', 'queues-prediction', 20)"
   ]
  },
  {
   "cell_type": "markdown",
   "metadata": {},
   "source": [
    "## Prediction Process on approx. 3000 items"
   ]
  },
  {
   "cell_type": "code",
   "execution_count": 20,
   "metadata": {
    "scrolled": false
   },
   "outputs": [
    {
     "name": "stderr",
     "output_type": "stream",
     "text": [
      "INFO:root:ES to Df: 1.58 time elapsed\n",
      "INFO:root:ES to Df: 3.29 time elapsed\n"
     ]
    }
   ],
   "source": [
    "q_one = es_to_df(\"2020-06-10 00:00:00\",\"2020-06-16 12:00:00\", 20, \"censhare\", 'localhost', 9200, 720)\n",
    "q_two = es_to_df(\"2020-06-10 00:00:00\",\"2020-06-16 12:00:00\", 20, \"pic\", 'localhost', 9200, 720)"
   ]
  },
  {
   "cell_type": "markdown",
   "metadata": {},
   "source": [
    "#### Overview of the size value in the last days"
   ]
  },
  {
   "cell_type": "code",
   "execution_count": 21,
   "metadata": {},
   "outputs": [],
   "source": [
    "q_one_size = q_one['size'].values\n",
    "q_two_size = q_two['size'].values"
   ]
  },
  {
   "cell_type": "code",
   "execution_count": 22,
   "metadata": {
    "scrolled": true
   },
   "outputs": [
    {
     "data": {
      "text/plain": [
       "[<matplotlib.lines.Line2D at 0x1dda31c5708>]"
      ]
     },
     "execution_count": 22,
     "metadata": {},
     "output_type": "execute_result"
    },
    {
     "data": {
      "image/png": "[encoded data removed]",
      "text/plain": [
       "<Figure size 432x288 with 1 Axes>"
      ]
     },
     "metadata": {
      "needs_background": "light"
     },
     "output_type": "display_data"
    }
   ],
   "source": [
    "plt.plot(q_one_size)"
   ]
  },
  {
   "cell_type": "code",
   "execution_count": 23,
   "metadata": {
    "scrolled": false
   },
   "outputs": [
    {
     "data": {
      "text/plain": [
       "[<matplotlib.lines.Line2D at 0x1dd9cf8f3c8>]"
      ]
     },
     "execution_count": 23,
     "metadata": {},
     "output_type": "execute_result"
    },
    {
     "data": {
      "image/png": "[encoded data removed]",
      "text/plain": [
       "<Figure size 432x288 with 1 Axes>"
      ]
     },
     "metadata": {
      "needs_background": "light"
     },
     "output_type": "display_data"
    }
   ],
   "source": [
    "plt.plot(q_two_size)"
   ]
  },
  {
   "cell_type": "markdown",
   "metadata": {},
   "source": [
    "#### Create the feature enriched dataset for each item"
   ]
  },
  {
   "cell_type": "code",
   "execution_count": 24,
   "metadata": {},
   "outputs": [
    {
     "name": "stderr",
     "output_type": "stream",
     "text": [
      "INFO:root:2986 items in the first and second queue combined with duplicates\n",
      "INFO:root:1371 items in the first queue without duplicates\n",
      "INFO:root:1615 items in the second queue without duplicates\n",
      "INFO:root:2797 items in the first and second queue combined without duplicates\n",
      "INFO:root:2790 samples created in the dataset\n",
      "INFO:root:Create dataset: 4.08 time elapsed\n"
     ]
    }
   ],
   "source": [
    "X = create_dataset_predict(q_one, q_two)"
   ]
  },
  {
   "cell_type": "markdown",
   "metadata": {},
   "source": [
    "#### Scaling & Padding"
   ]
  },
  {
   "cell_type": "code",
   "execution_count": 25,
   "metadata": {},
   "outputs": [
    {
     "name": "stderr",
     "output_type": "stream",
     "text": [
      "INFO:root:Scaling: 3.29 time elapsed\n"
     ]
    }
   ],
   "source": [
    "X_pad_scaled, X_pad = scale_pad(X, 720, './models/scalerx_outlier_25_300_2020-06-09_2020-06-13_20epochs_720steps_20srate.p')"
   ]
  },
  {
   "cell_type": "markdown",
   "metadata": {},
   "source": [
    "#### Load Model"
   ]
  },
  {
   "cell_type": "code",
   "execution_count": 26,
   "metadata": {},
   "outputs": [
    {
     "name": "stderr",
     "output_type": "stream",
     "text": [
      "INFO:root:Index queues-prediction has been refreshed\n"
     ]
    },
    {
     "name": "stdout",
     "output_type": "stream",
     "text": [
      "10 Elemente hochgeladen\n",
      "20 Elemente hochgeladen\n",
      "30 Elemente hochgeladen\n",
      "40 Elemente hochgeladen\n",
      "50 Elemente hochgeladen\n",
      "60 Elemente hochgeladen\n",
      "70 Elemente hochgeladen\n",
      "80 Elemente hochgeladen\n"
     ]
    },
    {
     "name": "stderr",
     "output_type": "stream",
     "text": [
      "INFO:root:Prediction and upload for 2020-06-16 11:50:02.677706+00:00: 6.99 time elapsed\n"
     ]
    }
   ],
   "source": [
    "final_df = predict_upload(q_two, X, X_pad, X_pad_scaled,'./models/scalery_outlier_25_300_2020-06-09_2020-06-13_20epochs_720steps_20srate.p', 'localhost', \n",
    "               9200, './models/best_outlier_25_300_2020-06-09_2020-06-13_20epochs_720steps_20srate.h5', 'queues-prediction', 20)"
   ]
  },
  {
   "cell_type": "markdown",
   "metadata": {},
   "source": [
    "## Prediction Process on approx. 1000 items"
   ]
  },
  {
   "cell_type": "code",
   "execution_count": 27,
   "metadata": {
    "scrolled": true
   },
   "outputs": [
    {
     "name": "stderr",
     "output_type": "stream",
     "text": [
      "INFO:root:ES to Df: 1.25 time elapsed\n",
      "INFO:root:ES to Df: 2.40 time elapsed\n"
     ]
    }
   ],
   "source": [
    "q_one = es_to_df(\"2020-06-09 00:00:00\",\"2020-06-14 20:00:00\", 20, \"censhare\", 'localhost', 9200, 720)\n",
    "q_two = es_to_df(\"2020-06-09 00:00:00\",\"2020-06-14 20:00:00\", 20, \"pic\", 'localhost', 9200, 720)"
   ]
  },
  {
   "cell_type": "markdown",
   "metadata": {},
   "source": [
    "#### Overview of the size value in the last days"
   ]
  },
  {
   "cell_type": "code",
   "execution_count": 28,
   "metadata": {},
   "outputs": [],
   "source": [
    "q_one_size = q_one['size'].values\n",
    "q_two_size = q_two['size'].values"
   ]
  },
  {
   "cell_type": "code",
   "execution_count": 29,
   "metadata": {
    "scrolled": true
   },
   "outputs": [
    {
     "data": {
      "text/plain": [
       "[<matplotlib.lines.Line2D at 0x1dd9c0ae888>]"
      ]
     },
     "execution_count": 29,
     "metadata": {},
     "output_type": "execute_result"
    },
    {
     "data": {
      "image/png": "[encoded data removed]",
      "text/plain": [
       "<Figure size 432x288 with 1 Axes>"
      ]
     },
     "metadata": {
      "needs_background": "light"
     },
     "output_type": "display_data"
    }
   ],
   "source": [
    "plt.plot(q_one_size)"
   ]
  },
  {
   "cell_type": "code",
   "execution_count": 30,
   "metadata": {
    "scrolled": false
   },
   "outputs": [
    {
     "data": {
      "text/plain": [
       "[<matplotlib.lines.Line2D at 0x1dd981de508>]"
      ]
     },
     "execution_count": 30,
     "metadata": {},
     "output_type": "execute_result"
    },
    {
     "data": {
      "image/png": "[encoded data removed]",
      "text/plain": [
       "<Figure size 432x288 with 1 Axes>"
      ]
     },
     "metadata": {
      "needs_background": "light"
     },
     "output_type": "display_data"
    }
   ],
   "source": [
    "plt.plot(q_two_size)"
   ]
  },
  {
   "cell_type": "markdown",
   "metadata": {},
   "source": [
    "#### Create the feature enriched dataset for each item"
   ]
  },
  {
   "cell_type": "code",
   "execution_count": 31,
   "metadata": {},
   "outputs": [
    {
     "name": "stderr",
     "output_type": "stream",
     "text": [
      "INFO:root:785 items in the first and second queue combined with duplicates\n",
      "INFO:root:785 items in the first queue without duplicates\n",
      "INFO:root:1 items in the second queue without duplicates\n",
      "INFO:root:785 items in the first and second queue combined without duplicates\n",
      "INFO:root:785 samples created in the dataset\n",
      "INFO:root:Create dataset: 1.35 time elapsed\n"
     ]
    }
   ],
   "source": [
    "X = create_dataset_predict(q_one, q_two)"
   ]
  },
  {
   "cell_type": "markdown",
   "metadata": {},
   "source": [
    "#### Scaling & Padding"
   ]
  },
  {
   "cell_type": "code",
   "execution_count": 32,
   "metadata": {},
   "outputs": [
    {
     "name": "stderr",
     "output_type": "stream",
     "text": [
      "INFO:root:Scaling: 0.90 time elapsed\n"
     ]
    }
   ],
   "source": [
    "X_pad_scaled, X_pad = scale_pad(X, 720, './models/scalerx_outlier_25_300_2020-06-09_2020-06-13_20epochs_720steps_20srate.p')"
   ]
  },
  {
   "cell_type": "markdown",
   "metadata": {},
   "source": [
    "#### Load Model"
   ]
  },
  {
   "cell_type": "code",
   "execution_count": 33,
   "metadata": {},
   "outputs": [
    {
     "name": "stderr",
     "output_type": "stream",
     "text": [
      "INFO:root:Index queues-prediction has been refreshed\n"
     ]
    },
    {
     "name": "stdout",
     "output_type": "stream",
     "text": [
      "10 Elemente hochgeladen\n",
      "20 Elemente hochgeladen\n",
      "30 Elemente hochgeladen\n",
      "40 Elemente hochgeladen\n",
      "50 Elemente hochgeladen\n",
      "60 Elemente hochgeladen\n",
      "70 Elemente hochgeladen\n",
      "80 Elemente hochgeladen\n",
      "90 Elemente hochgeladen\n",
      "100 Elemente hochgeladen\n"
     ]
    },
    {
     "name": "stderr",
     "output_type": "stream",
     "text": [
      "INFO:root:Prediction and upload for 2020-06-14 19:50:01.899946+00:00: 3.99 time elapsed\n"
     ]
    }
   ],
   "source": [
    "final_df = predict_upload(q_two, X, X_pad, X_pad_scaled,'./models/scalery_outlier_25_300_2020-06-09_2020-06-13_20epochs_720steps_20srate.p', 'localhost', \n",
    "               9200, './models/best_outlier_25_300_2020-06-09_2020-06-13_20epochs_720steps_20srate.h5', 'queues-prediction', 20)"
   ]
  }
 ],
 "metadata": {
  "kernelspec": {
   "display_name": "Python 3",
   "language": "python",
   "name": "python3"
  },
  "language_info": {
   "codemirror_mode": {
    "name": "ipython",
    "version": 3
   },
   "file_extension": ".py",
   "mimetype": "text/x-python",
   "name": "python",
   "nbconvert_exporter": "python",
   "pygments_lexer": "ipython3",
   "version": "3.7.7"
  }
 },
 "nbformat": 4,
 "nbformat_minor": 2
}
